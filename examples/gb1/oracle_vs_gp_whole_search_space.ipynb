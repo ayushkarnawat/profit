{
 "cells": [
  {
   "cell_type": "code",
   "execution_count": 1,
   "metadata": {
    "ExecuteTime": {
     "end_time": "2020-06-10T19:10:47.891040Z",
     "start_time": "2020-06-10T19:10:40.507464Z"
    }
   },
   "outputs": [
    {
     "name": "stderr",
     "output_type": "stream",
     "text": [
      "Using TensorFlow backend.\n"
     ]
    }
   ],
   "source": [
    "import os\n",
    "import copy\n",
    "import glob\n",
    "import json\n",
    "\n",
    "import numpy as np\n",
    "import torch\n",
    "\n",
    "import matplotlib as mpl\n",
    "import matplotlib.cm as cm\n",
    "import matplotlib.gridspec as gridspec\n",
    "import matplotlib.pyplot as plt\n",
    "from matplotlib.backends.backend_pgf import FigureCanvasPgf\n",
    "\n",
    "mpl.backend_bases.register_backend(\"pdf\", FigureCanvasPgf)\n",
    "mpl.use(\"pgf\")\n",
    "%matplotlib inline\n",
    "%config InlineBackend.figure_format=\"retina\"\n",
    "\n",
    "# Matplotlib plotting options\n",
    "plt.style.use(\"seaborn-paper\")\n",
    "plt.rcParams.update({\n",
    "    \"axes.labelsize\": 22,               # label size (x- and y-axis)\n",
    "    \"axes.titlesize\": 26,               # title size on (most) axes\n",
    "    \"figure.titlesize\": 26,             # title size for fig.sup_title()\n",
    "    \"legend.fontsize\": \"x-large\",       # font size for legend\n",
    "    \"lines.markersize\": 6,              # marker size for points and lines\n",
    "    \"lines.markeredgewidth\": 2,         # marker edgewidth for points\n",
    "    \"xtick.labelsize\": 18,              # label size for x-ticks \n",
    "    \"ytick.labelsize\": 18,              # label size for y-ticks\n",
    "\n",
    "    \"font.family\": \"serif\",             # use serif/main font for text elements\n",
    "    \"text.usetex\": True,                # use inline math for ticks\n",
    "    \"pgf.rcfonts\": False,               # don't setup fonts from rc params\n",
    "    \"pgf.preamble\": [\n",
    "        # Syling\n",
    "        r\"\\usepackage{color}\",          # special colors\n",
    "        r\"\\setmainfont{DejaVu Serif}\",  # serif font via preamble\n",
    "        r\"\\usepackage{bm}\",             # bold text\n",
    "\n",
    "        # Math\n",
    "        r\"\\usepackage{xfrac}\",          # side fractions\n",
    "        r\"\\usepackage{amsthm}\",         # theorems\n",
    "        r\"\\usepackage{amsmath}\",        # misc math\n",
    "        r\"\\usepackage{amssymb}\",        # blackboard math symbols\n",
    "        r\"\\usepackage{mathtools}\",      # enhance the appearance of math\n",
    "    ],\n",
    "})\n",
    "\n",
    "from profit.models.torch import SequenceOracle, SequenceGPR\n",
    "from profit.utils.data_utils.tokenizers import AminoAcidTokenizer\n",
    "from profit.utils.data_utils.serializers import LMDBSerializer"
   ]
  },
  {
   "cell_type": "code",
   "execution_count": 2,
   "metadata": {
    "ExecuteTime": {
     "end_time": "2020-06-10T19:10:48.072190Z",
     "start_time": "2020-06-10T19:10:47.996782Z"
    }
   },
   "outputs": [
    {
     "data": {
      "text/plain": [
       "torch.Size([570, 56, 20])"
      ]
     },
     "execution_count": 2,
     "metadata": {},
     "output_type": "execute_result"
    }
   ],
   "source": [
    "# Preprocess + load the dataset\n",
    "dataset = LMDBSerializer.load(\"../../data/3gb1/processed/lstm_fitness/primary_encoding=aa20.mdb\")\n",
    "Xaa = dataset[:][\"arr_0\"].long()\n",
    "_labels = dataset[:][\"arr_1\"].view(-1)\n",
    "\n",
    "# Determine vocab and sequence length\n",
    "tokenizer = AminoAcidTokenizer(\"aa20\")\n",
    "vocab_size = tokenizer.vocab_size\n",
    "seqlen = Xaa.size(1)\n",
    "\n",
    "# Convert to onehot\n",
    "X = torch.zeros(*Xaa.size(), vocab_size)\n",
    "X.scatter_(2, torch.unsqueeze(Xaa, 2), 1)\n",
    "X.size()"
   ]
  },
  {
   "cell_type": "code",
   "execution_count": 3,
   "metadata": {
    "ExecuteTime": {
     "end_time": "2020-06-10T19:10:48.165027Z",
     "start_time": "2020-06-10T19:10:48.149162Z"
    }
   },
   "outputs": [
    {
     "data": {
      "text/plain": [
       "['../../bin/3gb1/tmp/oracle/2020-Jun-10-17:49:58/E0003.pt',\n",
       " '../../bin/3gb1/tmp/oracle/2020-Jun-10-18:00:08/E0004.pt',\n",
       " '../../bin/3gb1/tmp/oracle/2020-Jun-10-18:01:17/E0017.pt',\n",
       " '../../bin/3gb1/tmp/oracle/2020-Jun-10-18:01:57/E0042.pt',\n",
       " '../../bin/3gb1/tmp/oracle/2020-Jun-10-18:04:13/E0012.pt',\n",
       " '../../bin/3gb1/tmp/oracle/2020-Jun-10-18:05:53/E0030.pt',\n",
       " '../../bin/3gb1/tmp/oracle/2020-Jun-10-18:08:15/E0004.pt']"
      ]
     },
     "execution_count": 3,
     "metadata": {},
     "output_type": "execute_result"
    }
   ],
   "source": [
    "paths = sorted(glob.glob(\"../../bin/3gb1/tmp/oracle/*/E*\"))\n",
    "paths"
   ]
  },
  {
   "cell_type": "code",
   "execution_count": 4,
   "metadata": {
    "ExecuteTime": {
     "end_time": "2020-06-10T19:10:48.252239Z",
     "start_time": "2020-06-10T19:10:48.225551Z"
    }
   },
   "outputs": [
    {
     "data": {
      "text/plain": [
       "SequenceOracle(\n",
       "  (fc1): Linear(in_features=1120, out_features=5, bias=True)\n",
       "  (fc2): Linear(in_features=5, out_features=1, bias=True)\n",
       ")"
      ]
     },
     "execution_count": 4,
     "metadata": {},
     "output_type": "execute_result"
    }
   ],
   "source": [
    "oracle_stump = SequenceOracle(seqlen, vocab_size, hidden_size=5, out_size=1)\n",
    "oracle_stump.load_state_dict(torch.load(paths[-4]))\n",
    "oracle_stump"
   ]
  },
  {
   "cell_type": "code",
   "execution_count": 5,
   "metadata": {
    "ExecuteTime": {
     "end_time": "2020-06-10T19:10:48.380857Z",
     "start_time": "2020-06-10T19:10:48.330445Z"
    }
   },
   "outputs": [
    {
     "data": {
      "text/plain": [
       "torch.Size([570])"
      ]
     },
     "execution_count": 5,
     "metadata": {},
     "output_type": "execute_result"
    }
   ],
   "source": [
    "oracle_stump.eval()\n",
    "with torch.no_grad():\n",
    "    oracle_pred = oracle_stump(X).squeeze()\n",
    "oracle_pred.shape"
   ]
  },
  {
   "cell_type": "code",
   "execution_count": 6,
   "metadata": {
    "ExecuteTime": {
     "end_time": "2020-06-10T19:10:48.525894Z",
     "start_time": "2020-06-10T19:10:48.503539Z"
    }
   },
   "outputs": [
    {
     "data": {
      "text/plain": [
       "(tensor([1.0943, 1.1081, 1.2220, 1.2579, 1.3318, 1.3434, 1.4096, 1.5657, 1.6550,\n",
       "         1.6816]),\n",
       " tensor([0.6578, 0.3900, 1.2266, 1.6815, 0.7183, 2.4872, 0.1649, 4.9163, 5.0733,\n",
       "         3.1087]))"
      ]
     },
     "execution_count": 6,
     "metadata": {},
     "output_type": "execute_result"
    }
   ],
   "source": [
    "idx = torch.sort(oracle_pred).indices[-10:]\n",
    "oracle_pred[idx], _labels[idx]"
   ]
  },
  {
   "cell_type": "code",
   "execution_count": 7,
   "metadata": {
    "ExecuteTime": {
     "end_time": "2020-06-10T19:10:49.211728Z",
     "start_time": "2020-06-10T19:10:48.652840Z"
    }
   },
   "outputs": [
    {
     "data": {
      "text/plain": [
       "[<matplotlib.lines.Line2D at 0x64fc2dd10>]"
      ]
     },
     "execution_count": 7,
     "metadata": {},
     "output_type": "execute_result"
    },
    {
     "data": {
      "image/png": "[encoded data removed]",
      "text/plain": [
       "<Figure size 460.8x316.8 with 1 Axes>"
      ]
     },
     "metadata": {
      "image/png": {
       "height": 278,
       "width": 388
      },
      "needs_background": "light"
     },
     "output_type": "display_data"
    }
   ],
   "source": [
    "plt.scatter(_labels, oracle_pred)\n",
    "xy = np.linspace(_labels.min(), _labels.max())\n",
    "plt.plot(xy, xy, \"--\", c=\"black\")"
   ]
  },
  {
   "cell_type": "code",
   "execution_count": 8,
   "metadata": {
    "ExecuteTime": {
     "end_time": "2020-06-10T19:10:49.375257Z",
     "start_time": "2020-06-10T19:10:49.357371Z"
    }
   },
   "outputs": [],
   "source": [
    "# Load full testing dataset\n",
    "from examples.gb1.data import load_variants"
   ]
  },
  {
   "cell_type": "code",
   "execution_count": 9,
   "metadata": {
    "ExecuteTime": {
     "end_time": "2020-06-10T19:10:53.400267Z",
     "start_time": "2020-06-10T19:10:51.703837Z"
    }
   },
   "outputs": [
    {
     "name": "stdout",
     "output_type": "stream",
     "text": [
      "Loading preprocessed data from cache `data/3gb1/processed/lstm_fitness/variants_encoding=aa20.mdb`\n"
     ]
    }
   ],
   "source": [
    "test = load_variants(\"lstm\", \"Fitness\", vocab=\"aa20\")"
   ]
  },
  {
   "cell_type": "code",
   "execution_count": 10,
   "metadata": {
    "ExecuteTime": {
     "end_time": "2020-06-10T19:11:10.705114Z",
     "start_time": "2020-06-10T19:11:08.916068Z"
    }
   },
   "outputs": [
    {
     "data": {
      "text/plain": [
       "torch.Size([160000, 56, 20])"
      ]
     },
     "execution_count": 10,
     "metadata": {},
     "output_type": "execute_result"
    }
   ],
   "source": [
    "Xaa_test = test[:][\"arr_0\"].long()\n",
    "\n",
    "# Determine vocab and sequence length\n",
    "tokenizer = AminoAcidTokenizer(\"aa20\")\n",
    "vocab_size = tokenizer.vocab_size\n",
    "seqlen = Xaa_test.size(1)\n",
    "\n",
    "# Convert to onehot\n",
    "X_test = torch.zeros(*Xaa_test.size(), vocab_size)\n",
    "X_test.scatter_(2, torch.unsqueeze(Xaa_test, 2), 1)\n",
    "X_test.size()"
   ]
  },
  {
   "cell_type": "code",
   "execution_count": 11,
   "metadata": {
    "ExecuteTime": {
     "end_time": "2020-06-10T19:11:11.575970Z",
     "start_time": "2020-06-10T19:11:11.184694Z"
    }
   },
   "outputs": [
    {
     "data": {
      "text/plain": [
       "torch.Size([160000])"
      ]
     },
     "execution_count": 11,
     "metadata": {},
     "output_type": "execute_result"
    }
   ],
   "source": [
    "oracle_stump.eval()\n",
    "with torch.no_grad():\n",
    "    oracle_test_pred = oracle_stump(X_test).squeeze()\n",
    "oracle_test_pred.shape"
   ]
  },
  {
   "cell_type": "code",
   "execution_count": 12,
   "metadata": {
    "ExecuteTime": {
     "end_time": "2020-06-10T19:11:13.759344Z",
     "start_time": "2020-06-10T19:11:13.710112Z"
    }
   },
   "outputs": [
    {
     "data": {
      "text/plain": [
       "tensor([1.7013, 1.7110, 1.7157, 1.7253, 1.7521, 1.7780, 1.7852, 1.7948, 1.8106,\n",
       "        1.8203])"
      ]
     },
     "execution_count": 12,
     "metadata": {},
     "output_type": "execute_result"
    }
   ],
   "source": [
    "idx = torch.sort(oracle_test_pred).indices[-10:]\n",
    "oracle_test_pred[idx]"
   ]
  },
  {
   "cell_type": "code",
   "execution_count": 13,
   "metadata": {
    "ExecuteTime": {
     "end_time": "2020-06-10T19:11:14.180870Z",
     "start_time": "2020-06-10T19:11:14.092924Z"
    }
   },
   "outputs": [
    {
     "data": {
      "text/plain": [
       "{'all': <profit.models.torch.gpr.SequenceGPR at 0x64fef0390>,\n",
       " 'g-mean': <profit.models.torch.gpr.SequenceGPR at 0x64fef0350>,\n",
       " 'l-mean': <profit.models.torch.gpr.SequenceGPR at 0x64fef0a10>,\n",
       " 'g-median': <profit.models.torch.gpr.SequenceGPR at 0x64fef0a50>,\n",
       " 'l-median': <profit.models.torch.gpr.SequenceGPR at 0x64fef0a90>,\n",
       " 'g-zero': <profit.models.torch.gpr.SequenceGPR at 0x64fef0ad0>}"
      ]
     },
     "execution_count": 13,
     "metadata": {},
     "output_type": "execute_result"
    }
   ],
   "source": [
    "paths = sorted(glob.glob(\"../../bin/3gb1/gpr/*\"))\n",
    "metadata = [\"all\", \"g-mean\", \"l-mean\", \"g-median\", \"l-median\", \"g-zero\"]\n",
    "gpr_paths = dict(zip(metadata, paths))\n",
    "all_gps = {desc: torch.load(path) for desc, path in gpr_paths.items()}\n",
    "all_gps"
   ]
  },
  {
   "cell_type": "code",
   "execution_count": 17,
   "metadata": {
    "ExecuteTime": {
     "end_time": "2020-06-10T19:12:16.823320Z",
     "start_time": "2020-06-10T19:12:16.808807Z"
    }
   },
   "outputs": [
    {
     "data": {
      "text/plain": [
       "torch.Size([160, 1000, 56])"
      ]
     },
     "execution_count": 17,
     "metadata": {},
     "output_type": "execute_result"
    }
   ],
   "source": [
    "Xaa_test_iter = Xaa_test.view(160, 1000, -1)\n",
    "Xaa_test_iter.shape"
   ]
  },
  {
   "cell_type": "code",
   "execution_count": 18,
   "metadata": {
    "ExecuteTime": {
     "end_time": "2020-06-10T19:30:38.693682Z",
     "start_time": "2020-06-10T19:13:26.743632Z"
    }
   },
   "outputs": [
    {
     "ename": "ValueError",
     "evalue": "only one element tensors can be converted to Python scalars",
     "output_type": "error",
     "traceback": [
      "\u001b[0;31m---------------------------------------------------------------------------\u001b[0m",
      "\u001b[0;31mValueError\u001b[0m                                Traceback (most recent call last)",
      "\u001b[0;32m<ipython-input-18-b7d62c7f1762>\u001b[0m in \u001b[0;36m<module>\u001b[0;34m\u001b[0m\n\u001b[1;32m      3\u001b[0m \u001b[0;32mfor\u001b[0m \u001b[0mXaa_test\u001b[0m \u001b[0;32min\u001b[0m \u001b[0mXaa_test_iter\u001b[0m\u001b[0;34m:\u001b[0m\u001b[0;34m\u001b[0m\u001b[0;34m\u001b[0m\u001b[0m\n\u001b[1;32m      4\u001b[0m     \u001b[0mgp_test_pred\u001b[0m\u001b[0;34m.\u001b[0m\u001b[0mappend\u001b[0m\u001b[0;34m(\u001b[0m\u001b[0mgp\u001b[0m\u001b[0;34m.\u001b[0m\u001b[0mpredict\u001b[0m\u001b[0;34m(\u001b[0m\u001b[0mXaa_test\u001b[0m\u001b[0;34m,\u001b[0m \u001b[0mreturn_std\u001b[0m\u001b[0;34m=\u001b[0m\u001b[0;32mFalse\u001b[0m\u001b[0;34m)\u001b[0m\u001b[0;34m.\u001b[0m\u001b[0msqueeze\u001b[0m\u001b[0;34m(\u001b[0m\u001b[0;34m)\u001b[0m\u001b[0;34m)\u001b[0m\u001b[0;34m\u001b[0m\u001b[0;34m\u001b[0m\u001b[0m\n\u001b[0;32m----> 5\u001b[0;31m \u001b[0mgp_test_pred\u001b[0m \u001b[0;34m=\u001b[0m \u001b[0mtorch\u001b[0m\u001b[0;34m.\u001b[0m\u001b[0mTensor\u001b[0m\u001b[0;34m(\u001b[0m\u001b[0mgp_test_pred\u001b[0m\u001b[0;34m)\u001b[0m\u001b[0;34m\u001b[0m\u001b[0;34m\u001b[0m\u001b[0m\n\u001b[0m",
      "\u001b[0;31mValueError\u001b[0m: only one element tensors can be converted to Python scalars"
     ]
    }
   ],
   "source": [
    "gp = all_gps[\"all\"]\n",
    "gp_test_pred = []\n",
    "for Xaa_test in Xaa_test_iter:\n",
    "    gp_test_pred.append(gp.predict(Xaa_test, return_std=False).squeeze())"
   ]
  },
  {
   "cell_type": "code",
   "execution_count": 24,
   "metadata": {
    "ExecuteTime": {
     "end_time": "2020-06-10T19:36:23.491181Z",
     "start_time": "2020-06-10T19:36:23.479127Z"
    }
   },
   "outputs": [],
   "source": [
    "gp_test_pred = torch.Tensor(np.array([scores.numpy() for scores in gp_test_pred]).flatten())"
   ]
  },
  {
   "cell_type": "code",
   "execution_count": 25,
   "metadata": {
    "ExecuteTime": {
     "end_time": "2020-06-10T19:36:25.477036Z",
     "start_time": "2020-06-10T19:36:25.459598Z"
    }
   },
   "outputs": [
    {
     "data": {
      "text/plain": [
       "tensor([1.1479, 1.8563, 1.9064, 1.1838, 2.1656, 1.4352, 2.1930, 1.5508, 1.3070,\n",
       "        1.2081])"
      ]
     },
     "execution_count": 25,
     "metadata": {},
     "output_type": "execute_result"
    }
   ],
   "source": [
    "# idx = torch.sort(gp_test_pred).indices[-10:]\n",
    "gp_test_pred[idx]"
   ]
  },
  {
   "cell_type": "code",
   "execution_count": 26,
   "metadata": {
    "ExecuteTime": {
     "end_time": "2020-06-10T19:36:31.956661Z",
     "start_time": "2020-06-10T19:36:31.917307Z"
    }
   },
   "outputs": [
    {
     "data": {
      "text/plain": [
       "tensor([3.1373, 3.1879, 3.3027, 3.3207, 3.3859, 3.4492, 3.4789, 3.7716, 4.2519,\n",
       "        4.4255])"
      ]
     },
     "execution_count": 26,
     "metadata": {},
     "output_type": "execute_result"
    }
   ],
   "source": [
    "idx = torch.sort(gp_test_pred).indices[-10:]\n",
    "gp_test_pred[idx]"
   ]
  },
  {
   "cell_type": "code",
   "execution_count": 27,
   "metadata": {
    "ExecuteTime": {
     "end_time": "2020-06-10T19:36:37.071624Z",
     "start_time": "2020-06-10T19:36:33.786374Z"
    }
   },
   "outputs": [
    {
     "data": {
      "text/plain": [
       "<matplotlib.collections.PathCollection at 0x687ae9650>"
      ]
     },
     "execution_count": 27,
     "metadata": {},
     "output_type": "execute_result"
    },
    {
     "data": {
      "image/png": "[encoded data removed]",
      "text/plain": [
       "<Figure size 460.8x316.8 with 1 Axes>"
      ]
     },
     "metadata": {
      "image/png": {
       "height": 278,
       "width": 388
      },
      "needs_background": "light"
     },
     "output_type": "display_data"
    }
   ],
   "source": [
    "plt.scatter(np.arange(len(gp_test_pred)), torch.sort(gp_test_pred).values)"
   ]
  },
  {
   "cell_type": "code",
   "execution_count": 30,
   "metadata": {
    "ExecuteTime": {
     "end_time": "2020-06-10T19:39:41.946107Z",
     "start_time": "2020-06-10T19:39:38.035505Z"
    }
   },
   "outputs": [
    {
     "data": {
      "text/plain": [
       "<matplotlib.collections.PathCollection at 0x687522350>"
      ]
     },
     "execution_count": 30,
     "metadata": {},
     "output_type": "execute_result"
    },
    {
     "data": {
      "image/png": "[encoded data removed]",
      "text/plain": [
       "<Figure size 460.8x316.8 with 1 Axes>"
      ]
     },
     "metadata": {
      "image/png": {
       "height": 278,
       "width": 388
      },
      "needs_background": "light"
     },
     "output_type": "display_data"
    }
   ],
   "source": [
    "gp_train_pred = gp.predict(Xaa).squeeze()\n",
    "plt.scatter(np.arange(len(gp_train_pred)), torch.sort(gp_train_pred).values)"
   ]
  },
  {
   "cell_type": "code",
   "execution_count": 31,
   "metadata": {
    "ExecuteTime": {
     "end_time": "2020-06-10T19:40:22.623664Z",
     "start_time": "2020-06-10T19:40:22.603374Z"
    }
   },
   "outputs": [
    {
     "data": {
      "text/plain": [
       "tensor([1.3298, 1.4522, 1.6066, 1.6298, 1.7879, 2.2132, 2.8175, 3.3207, 4.2519,\n",
       "        4.4255])"
      ]
     },
     "execution_count": 31,
     "metadata": {},
     "output_type": "execute_result"
    }
   ],
   "source": [
    "idx = torch.sort(gp_train_pred).indices[-10:]\n",
    "gp_train_pred[idx]"
   ]
  },
  {
   "cell_type": "code",
   "execution_count": null,
   "metadata": {},
   "outputs": [],
   "source": []
  }
 ],
 "metadata": {
  "kernelspec": {
   "display_name": "Python 3",
   "language": "python",
   "name": "python3"
  },
  "language_info": {
   "codemirror_mode": {
    "name": "ipython",
    "version": 3
   },
   "file_extension": ".py",
   "mimetype": "text/x-python",
   "name": "python",
   "nbconvert_exporter": "python",
   "pygments_lexer": "ipython3",
   "version": "3.7.7"
  },
  "toc": {
   "base_numbering": 1,
   "nav_menu": {},
   "number_sections": true,
   "sideBar": true,
   "skip_h1_title": false,
   "title_cell": "Table of Contents",
   "title_sidebar": "Contents",
   "toc_cell": false,
   "toc_position": {},
   "toc_section_display": true,
   "toc_window_display": false
  },
  "varInspector": {
   "cols": {
    "lenName": 16,
    "lenType": 16,
    "lenVar": 40
   },
   "kernels_config": {
    "python": {
     "delete_cmd_postfix": "",
     "delete_cmd_prefix": "del ",
     "library": "var_list.py",
     "varRefreshCmd": "print(var_dic_list())"
    },
    "r": {
     "delete_cmd_postfix": ") ",
     "delete_cmd_prefix": "rm(",
     "library": "var_list.r",
     "varRefreshCmd": "cat(var_dic_list()) "
    }
   },
   "types_to_exclude": [
    "module",
    "function",
    "builtin_function_or_method",
    "instance",
    "_Feature"
   ],
   "window_display": false
  }
 },
 "nbformat": 4,
 "nbformat_minor": 4
}
