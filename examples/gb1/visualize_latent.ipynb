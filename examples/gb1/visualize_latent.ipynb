{
 "cells": [
  {
   "cell_type": "code",
   "execution_count": 1,
   "metadata": {
    "ExecuteTime": {
     "end_time": "2020-03-27T00:48:15.075031Z",
     "start_time": "2020-03-27T00:48:06.570594Z"
    }
   },
   "outputs": [
    {
     "name": "stderr",
     "output_type": "stream",
     "text": [
      "Using TensorFlow backend.\n"
     ]
    }
   ],
   "source": [
    "import os\n",
    "import json\n",
    "import glob\n",
    "\n",
    "import imageio\n",
    "import numpy as np\n",
    "import moviepy.editor as mp\n",
    "\n",
    "import matplotlib as mpl\n",
    "import matplotlib.pyplot as plt\n",
    "import matplotlib.gridspec as gridspec\n",
    "from matplotlib.backends.backend_pgf import FigureCanvasPgf\n",
    "mpl.use(\"pgf\")\n",
    "mpl.backend_bases.register_backend('pdf', FigureCanvasPgf)\n",
    "mpl.rc('text', usetex=True)\n",
    "mpl.rc(\"pgf\", rcfonts=False, preamble=r'\\usepackage{color}')\n",
    "%matplotlib inline\n",
    "%config InlineBackend.figure_format='retina'\n",
    "\n",
    "from profit.utils.data_utils.tokenizers import AminoAcidTokenizer"
   ]
  },
  {
   "cell_type": "code",
   "execution_count": 2,
   "metadata": {
    "ExecuteTime": {
     "end_time": "2020-03-27T00:49:40.529148Z",
     "start_time": "2020-03-27T00:48:46.205364Z"
    },
    "scrolled": true
   },
   "outputs": [],
   "source": [
    "# Create tmp folder to save results\n",
    "savedir = \"../../results\"\n",
    "if not os.path.isdir(savedir):\n",
    "    os.makedirs(savedir)\n",
    "\n",
    "\n",
    "tokenizer = AminoAcidTokenizer('aa20')\n",
    "vocab_size = tokenizer.vocab_size\n",
    "viridis = mpl.cm.get_cmap('viridis', vocab_size).colors\n",
    "\n",
    "epoch = 0\n",
    "files = sorted(glob.glob(\"../../dumps/2020-Mar-26-19:57:10/*.json\"))\n",
    "for file in files:\n",
    "    epoch += 1\n",
    "    with open(file, \"r\") as fp:\n",
    "        # Obtain original (encoded) data and latent (z) space\n",
    "        dump = json.load(fp)\n",
    "        target_seqs, z = dump[\"target_seqs\"], np.array(dump[\"z\"])\n",
    "        data = np.array([tokenizer.encode(seq) for seq in target_seqs], dtype=np.int)\n",
    "        \n",
    "        plt.figure(constrained_layout=True, figsize=(6, 4))\n",
    "        for vocab_idx in np.unique(data):\n",
    "            # Find all idxs where the exact vocab is found\n",
    "            xidx, yidx = np.where(data == vocab_idx)\n",
    "            plt.scatter(z[xidx, yidx, 0], z[xidx, yidx, 1], marker=\"o\",\n",
    "                        alpha=1.0, cmap=viridis[vocab_idx])\n",
    "        plt.title(f\"Latent ($z$) vector (epoch ${epoch}$)\", fontsize=18)\n",
    "        plt.xlabel(\"$q(z_{0}|x)$\", fontsize=16)\n",
    "        plt.ylabel(\"$q(z_{1}|x)$\", fontsize=16)\n",
    "        plt.xticks(fontsize=16)\n",
    "        plt.yticks(fontsize=16)\n",
    "        plt.xlim([-5, 5])\n",
    "        plt.ylim([-5, 5])\n",
    "        plt.savefig(os.path.join(savedir, \"ours-iter-{:04d}.png\".format(epoch)), bbox_inches=\"tight\", dpi=100)\n",
    "        plt.close()"
   ]
  },
  {
   "cell_type": "code",
   "execution_count": 3,
   "metadata": {
    "ExecuteTime": {
     "end_time": "2020-03-27T00:49:47.558064Z",
     "start_time": "2020-03-27T00:49:41.936710Z"
    }
   },
   "outputs": [
    {
     "name": "stderr",
     "output_type": "stream",
     "text": [
      "t:  10%|█         | 5/50 [00:00<00:00, 47.18it/s, now=None]"
     ]
    },
    {
     "name": "stdout",
     "output_type": "stream",
     "text": [
      "Moviepy - Building video ../../results/ours.mp4.\n",
      "Moviepy - Writing video ../../results/ours.mp4\n",
      "\n"
     ]
    },
    {
     "name": "stderr",
     "output_type": "stream",
     "text": [
      "                                                            \r"
     ]
    },
    {
     "name": "stdout",
     "output_type": "stream",
     "text": [
      "Moviepy - Done !\n",
      "Moviepy - video ready ../../results/ours.mp4\n"
     ]
    }
   ],
   "source": [
    "filenames = sorted(glob.glob(os.path.join(savedir, \"ours-iter-*.png\")))\n",
    "with imageio.get_writer(os.path.join(savedir, 'ours.gif'), mode='I', duration=0.2) as writer:\n",
    "    for filename in filenames:\n",
    "        image = imageio.imread(filename)\n",
    "        writer.append_data(image)\n",
    "\n",
    "clip = mp.VideoFileClip(os.path.join(savedir, 'ours.gif'))\n",
    "clip.write_videofile(os.path.join(savedir, 'ours.mp4'))"
   ]
  },
  {
   "cell_type": "code",
   "execution_count": 4,
   "metadata": {
    "ExecuteTime": {
     "end_time": "2020-03-27T00:50:26.161353Z",
     "start_time": "2020-03-27T00:49:49.061504Z"
    },
    "scrolled": false
   },
   "outputs": [],
   "source": [
    "epoch = 0\n",
    "files = sorted(glob.glob(\"../../dumps/2020-Mar-26-21:30:07/*.json\"))\n",
    "for file in files:\n",
    "    epoch += 1\n",
    "    with open(file, \"r\") as fp:\n",
    "        # Obtain original (encoded) data and latent (z) space\n",
    "        dump = json.load(fp)\n",
    "        z = np.array(dump[\"z\"])\n",
    "        plt.scatter(z[:, 0], z[:, 1], marker=\"o\", alpha=1.0, c='k')\n",
    "        plt.title(f\"Latent ($z$) vector (epoch ${epoch}$)\", fontsize=18)\n",
    "        plt.xlabel(\"$q(z_{0}|x)$\", fontsize=16)\n",
    "        plt.ylabel(\"$q(z_{1}|x)$\", fontsize=16)\n",
    "        plt.xticks(fontsize=16)\n",
    "        plt.yticks(fontsize=16)\n",
    "        plt.xlim([-5, 5])\n",
    "        plt.ylim([-5, 5])\n",
    "        plt.savefig(os.path.join(savedir, \"cbas-iter-{:04d}.png\".format(epoch)), bbox_inches=\"tight\", dpi=100)\n",
    "        plt.close()"
   ]
  },
  {
   "cell_type": "code",
   "execution_count": 5,
   "metadata": {
    "ExecuteTime": {
     "end_time": "2020-03-27T00:50:31.119743Z",
     "start_time": "2020-03-27T00:50:26.727432Z"
    }
   },
   "outputs": [
    {
     "name": "stderr",
     "output_type": "stream",
     "text": [
      "t:  16%|█▌        | 8/50 [00:00<00:00, 76.11it/s, now=None]"
     ]
    },
    {
     "name": "stdout",
     "output_type": "stream",
     "text": [
      "Moviepy - Building video ../../results/cbas.mp4.\n",
      "Moviepy - Writing video ../../results/cbas.mp4\n",
      "\n"
     ]
    },
    {
     "name": "stderr",
     "output_type": "stream",
     "text": [
      "                                                            \r"
     ]
    },
    {
     "name": "stdout",
     "output_type": "stream",
     "text": [
      "Moviepy - Done !\n",
      "Moviepy - video ready ../../results/cbas.mp4\n"
     ]
    }
   ],
   "source": [
    "filenames = sorted(glob.glob(os.path.join(savedir, \"cbas-iter-*.png\")))\n",
    "with imageio.get_writer(os.path.join(savedir, 'cbas.gif'), mode='I', duration=0.2) as writer:\n",
    "    for filename in filenames:\n",
    "        image = imageio.imread(filename)\n",
    "        writer.append_data(image)\n",
    "\n",
    "clip = mp.VideoFileClip(os.path.join(savedir, 'cbas.gif'))\n",
    "clip.write_videofile(os.path.join(savedir, 'cbas.mp4'))"
   ]
  },
  {
   "cell_type": "code",
   "execution_count": null,
   "metadata": {},
   "outputs": [],
   "source": []
  }
 ],
 "metadata": {
  "kernelspec": {
   "display_name": "Python 3",
   "language": "python",
   "name": "python3"
  },
  "toc": {
   "base_numbering": 1,
   "nav_menu": {},
   "number_sections": true,
   "sideBar": true,
   "skip_h1_title": false,
   "title_cell": "Table of Contents",
   "title_sidebar": "Contents",
   "toc_cell": false,
   "toc_position": {},
   "toc_section_display": true,
   "toc_window_display": true
  },
  "varInspector": {
   "cols": {
    "lenName": 16,
    "lenType": 16,
    "lenVar": 40
   },
   "kernels_config": {
    "python": {
     "delete_cmd_postfix": "",
     "delete_cmd_prefix": "del ",
     "library": "var_list.py",
     "varRefreshCmd": "print(var_dic_list())"
    },
    "r": {
     "delete_cmd_postfix": ") ",
     "delete_cmd_prefix": "rm(",
     "library": "var_list.r",
     "varRefreshCmd": "cat(var_dic_list()) "
    }
   },
   "types_to_exclude": [
    "module",
    "function",
    "builtin_function_or_method",
    "instance",
    "_Feature"
   ],
   "window_display": false
  }
 },
 "nbformat": 4,
 "nbformat_minor": 2
}
