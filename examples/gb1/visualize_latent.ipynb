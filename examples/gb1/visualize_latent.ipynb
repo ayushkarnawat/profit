{
 "cells": [
  {
   "cell_type": "code",
   "execution_count": 1,
   "metadata": {
    "ExecuteTime": {
     "end_time": "2020-04-27T23:41:23.861514Z",
     "start_time": "2020-04-27T23:41:21.618640Z"
    }
   },
   "outputs": [],
   "source": [
    "import os\n",
    "import json\n",
    "import glob\n",
    "import dateutil.parser as dparser\n",
    "\n",
    "import imageio\n",
    "import numpy as np\n",
    "import moviepy.editor as mp\n",
    "\n",
    "import matplotlib as mpl\n",
    "import matplotlib.pyplot as plt\n",
    "from matplotlib.backends.backend_pgf import FigureCanvasPgf\n",
    "\n",
    "mpl.backend_bases.register_backend(\"pdf\", FigureCanvasPgf)\n",
    "mpl.use(\"pgf\")\n",
    "%matplotlib inline\n",
    "%config InlineBackend.figure_format=\"retina\"\n",
    "\n",
    "# Matplotlib plotting options\n",
    "plt.style.use(\"seaborn-paper\")\n",
    "plt.rcParams.update({\n",
    "    \"axes.labelsize\": 16,               # label size (x- and y-axis)\n",
    "    \"axes.titlesize\": 20,               # title size on (most) axes\n",
    "    \"figure.titlesize\": 20,             # title size for fig.sup_title()\n",
    "    \"legend.fontsize\": \"large\",         # font size for legend\n",
    "    \"lines.markersize\": 6,              # marker size for points and lines\n",
    "    \"lines.markeredgewidth\": 2,         # marker edgewidth for points\n",
    "    \"xtick.labelsize\": 14,              # label size for x-ticks \n",
    "    \"ytick.labelsize\": 14,              # label size for y-ticks\n",
    "\n",
    "    \"font.family\": \"serif\",             # use serif/main font for text elements\n",
    "    \"text.usetex\": True,                # use inline math for ticks\n",
    "    \"pgf.rcfonts\": False,               # don't setup fonts from rc params\n",
    "    \"pgf.preamble\": [\n",
    "        # Syling\n",
    "        r\"\\usepackage{color}\",          # special colors\n",
    "        r\"\\setmainfont{DejaVu Serif}\",  # serif font via preamble\n",
    "\n",
    "        # Math\n",
    "        r\"\\usepackage{xfrac}\",          # side fractions\n",
    "        r\"\\usepackage{amsthm}\",         # theorems\n",
    "        r\"\\usepackage{amsmath}\",        # misc math\n",
    "        r\"\\usepackage{amssymb}\",        # blackboard math symbols\n",
    "        r\"\\usepackage{mathtools}\",      # enhance the appearance of math\n",
    "    ],\n",
    "})"
   ]
  },
  {
   "cell_type": "code",
   "execution_count": 2,
   "metadata": {
    "ExecuteTime": {
     "end_time": "2020-04-27T23:41:24.098653Z",
     "start_time": "2020-04-27T23:41:24.051657Z"
    }
   },
   "outputs": [],
   "source": [
    "def corner(data):\n",
    "    \"\"\"Corner plot of latent distribution :math:`z`.\"\"\"\n",
    "    num_latent = data.shape[-1]\n",
    "    figsize = (num_latent*3, num_latent*3)\n",
    "    fig, axarr = plt.subplots(nrows=num_latent, ncols=num_latent, sharex=True,\n",
    "                              sharey=False, figsize=figsize)\n",
    "    for i in range(axarr.shape[0]):\n",
    "        # Plot latent vector (z) for each param\n",
    "        for j in range(i+1):\n",
    "            ax = axarr[i,j]\n",
    "            if i == j:\n",
    "                ax.hist(data[:, j], bins=20, color=\"mediumseagreen\", density=True)\n",
    "            else:\n",
    "                ax.scatter(data[:, i], data[:, j],  c=\"mediumseagreen\", marker=\"o\",\n",
    "                           alpha=1.0, edgecolors=\"black\")\n",
    "                ax.set_xlim([-5, 5])\n",
    "                ax.set_ylim([-5, 5])\n",
    "        # Make unused plots white\n",
    "        for j in range(i+1, axarr.shape[1]):\n",
    "            axarr[i,j].axis('off')\n",
    "\n",
    "    # Cleanup\n",
    "    for i, row in enumerate(axarr):\n",
    "        for j, cell in enumerate(row):\n",
    "            # Display labels on edge plots only\n",
    "            if i == len(axarr) - 1:\n",
    "                cell.set_xlabel(\"$q(z_{%d}|x)$\" % j)\n",
    "            if j == 0:\n",
    "                cell.set_ylabel(\"$q(z_{%d}|x)$\" % i)\n",
    "            # Remove tick labels on inner subplots\n",
    "            if i != len(axarr) - 1:\n",
    "                cell.set_xticklabels([])\n",
    "            if j != 0:\n",
    "                cell.set_yticklabels([])\n",
    "    return fig"
   ]
  },
  {
   "cell_type": "code",
   "execution_count": 3,
   "metadata": {
    "ExecuteTime": {
     "end_time": "2020-04-27T23:43:10.154099Z",
     "start_time": "2020-04-27T23:41:24.113557Z"
    }
   },
   "outputs": [],
   "source": [
    "epoch = 0\n",
    "rootdir = \"../../results/\"\n",
    "files = sorted(glob.glob(\"../../dumps/3gb1/vae/*/*.json\"))\n",
    "for file in files:\n",
    "    # Epoch number\n",
    "    epoch += 1\n",
    "    # Parse datetime from the file\n",
    "    for _str in file.split(\"/\"):\n",
    "        try:\n",
    "            dt = dparser.parse(_str, fuzzy=True)\n",
    "        except ValueError:\n",
    "            pass\n",
    "    ts = dt.strftime(\"%Y-%b-%d-%H:%M:%S\")\n",
    "    savedir = os.path.join(rootdir, f\"3gb1/vae/{ts}\")\n",
    "    os.makedirs(savedir, exist_ok=True)\n",
    "\n",
    "    with open(file, \"r\") as fp:\n",
    "        dump = json.load(fp)\n",
    "    # Obtain original (encoded) data and latent (z) space\n",
    "    z = np.array(dump[\"z\"])\n",
    "    fig = corner(z[:, :5])\n",
    "    # Cleanup and save fig\n",
    "    fig.tight_layout()\n",
    "    fig.suptitle(f\"Latent vector (epoch {epoch:04d})\")\n",
    "    fig.subplots_adjust(top=0.95)\n",
    "    fig.savefig(os.path.join(savedir, f\"E{epoch:04d}.png\"),\n",
    "                bbox_inches=\"tight\", dpi=150)\n",
    "    plt.close()"
   ]
  },
  {
   "cell_type": "code",
   "execution_count": 4,
   "metadata": {
    "ExecuteTime": {
     "end_time": "2020-04-27T23:43:45.875472Z",
     "start_time": "2020-04-27T23:43:10.157695Z"
    }
   },
   "outputs": [
    {
     "name": "stderr",
     "output_type": "stream",
     "text": [
      "\r",
      "t:   0%|          | 0/10 [00:00<?, ?it/s, now=None]"
     ]
    },
    {
     "name": "stdout",
     "output_type": "stream",
     "text": [
      "Moviepy - Building video ../../dumps/3gb1/vae/2020-Apr-27-20:15:46/latent.mp4.\n",
      "Moviepy - Writing video ../../dumps/3gb1/vae/2020-Apr-27-20:15:46/latent.mp4\n",
      "\n"
     ]
    },
    {
     "name": "stderr",
     "output_type": "stream",
     "text": [
      "                                                            \r"
     ]
    },
    {
     "name": "stdout",
     "output_type": "stream",
     "text": [
      "Moviepy - Done !\n",
      "Moviepy - video ready ../../dumps/3gb1/vae/2020-Apr-27-20:15:46/latent.mp4\n"
     ]
    }
   ],
   "source": [
    "filenames = sorted(glob.glob(os.path.join(savedir, \"E*.png\")))\n",
    "with imageio.get_writer(os.path.join(savedir, 'latent.gif'), mode='I', duration=0.2) as writer:\n",
    "    for filename in filenames:\n",
    "        image = imageio.imread(filename)\n",
    "        writer.append_data(image)\n",
    "\n",
    "clip = mp.VideoFileClip(os.path.join(savedir, 'latent.gif'))\n",
    "clip.write_videofile(os.path.join(savedir, 'latent.mp4'))"
   ]
  }
 ],
 "metadata": {
  "kernelspec": {
   "display_name": "Python 3",
   "language": "python",
   "name": "python3"
  },
  "language_info": {
   "codemirror_mode": {
    "name": "ipython",
    "version": 3
   },
   "file_extension": ".py",
   "mimetype": "text/x-python",
   "name": "python",
   "nbconvert_exporter": "python",
   "pygments_lexer": "ipython3",
   "version": "3.7.4"
  },
  "toc": {
   "base_numbering": 1,
   "nav_menu": {},
   "number_sections": true,
   "sideBar": true,
   "skip_h1_title": false,
   "title_cell": "Table of Contents",
   "title_sidebar": "Contents",
   "toc_cell": false,
   "toc_position": {},
   "toc_section_display": true,
   "toc_window_display": true
  },
  "varInspector": {
   "cols": {
    "lenName": 16,
    "lenType": 16,
    "lenVar": 40
   },
   "kernels_config": {
    "python": {
     "delete_cmd_postfix": "",
     "delete_cmd_prefix": "del ",
     "library": "var_list.py",
     "varRefreshCmd": "print(var_dic_list())"
    },
    "r": {
     "delete_cmd_postfix": ") ",
     "delete_cmd_prefix": "rm(",
     "library": "var_list.r",
     "varRefreshCmd": "cat(var_dic_list()) "
    }
   },
   "types_to_exclude": [
    "module",
    "function",
    "builtin_function_or_method",
    "instance",
    "_Feature"
   ],
   "window_display": false
  }
 },
 "nbformat": 4,
 "nbformat_minor": 2
}
